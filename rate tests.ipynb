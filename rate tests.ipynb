{
 "metadata": {
  "name": "",
  "signature": "sha256:ed8c2cf9e63c983fe1be6bf0364c361819dcc4a3bdfb32775fe51efeb9dfaecc"
 },
 "nbformat": 3,
 "nbformat_minor": 0,
 "worksheets": [
  {
   "cells": [
    {
     "cell_type": "markdown",
     "metadata": {},
     "source": [
      "Following along with the Slater Stich post here:\n",
      "http://newdatascientist.com/blog/2014/04/06/rate-tests-chapter-1/\n",
      "\n",
      "A biased coin is flipped 100 times and lands heads-up on 75 of them. What is our posterior distribution for the coin\u2019s bias?"
     ]
    },
    {
     "cell_type": "code",
     "collapsed": false,
     "input": [
      "import numpy as np\n",
      "import pandas as pd\n",
      "import matplotlib.pyplot as plt"
     ],
     "language": "python",
     "metadata": {},
     "outputs": [],
     "prompt_number": 11
    },
    {
     "cell_type": "code",
     "collapsed": false,
     "input": [
      "unnormalized = np.array([t**75 * (1-t)**25 for t in np.linspace(0,1,100000)])"
     ],
     "language": "python",
     "metadata": {},
     "outputs": [],
     "prompt_number": 34
    },
    {
     "cell_type": "code",
     "collapsed": false,
     "input": [
      "normalized = pd.Series(unnormalized/unnormalized.sum(), index=np.linspace(0,1,100000))"
     ],
     "language": "python",
     "metadata": {},
     "outputs": [],
     "prompt_number": 35
    },
    {
     "cell_type": "code",
     "collapsed": false,
     "input": [
      "normalized.plot()\n",
      "plt.vlines(0.75, 0, 0.0001, linestyles='dashed')"
     ],
     "language": "python",
     "metadata": {},
     "outputs": [
      {
       "metadata": {},
       "output_type": "pyout",
       "prompt_number": 36,
       "text": [
        "<matplotlib.collections.LineCollection at 0x109220c10>"
       ]
      },
      {
       "metadata": {},
       "output_type": "display_data",
       "png": "[encoded data removed]",
       "text": [
        "<matplotlib.figure.Figure at 0x10aa46610>"
       ]
      }
     ],
     "prompt_number": 36
    },
    {
     "cell_type": "code",
     "collapsed": false,
     "input": [
      "true_p = np.random.uniform(0,1,1000000)"
     ],
     "language": "python",
     "metadata": {},
     "outputs": [],
     "prompt_number": 14
    },
    {
     "cell_type": "code",
     "collapsed": false,
     "input": [
      "observed_heads = np.random.binomial(100, true_p)"
     ],
     "language": "python",
     "metadata": {},
     "outputs": [],
     "prompt_number": 15
    },
    {
     "cell_type": "code",
     "collapsed": false,
     "input": [
      "np.where(observed_heads == 75)"
     ],
     "language": "python",
     "metadata": {},
     "outputs": [
      {
       "metadata": {},
       "output_type": "pyout",
       "prompt_number": 16,
       "text": [
        "(array([    16,    145,    169, ..., 999706, 999791, 999834]),)"
       ]
      }
     ],
     "prompt_number": 16
    },
    {
     "cell_type": "code",
     "collapsed": false,
     "input": [
      "p_with_75_heads = true_p[np.where(observed_heads == 75)]\n",
      "p_with_75_heads"
     ],
     "language": "python",
     "metadata": {},
     "outputs": [
      {
       "metadata": {},
       "output_type": "pyout",
       "prompt_number": 18,
       "text": [
        "array([ 0.69107273,  0.745922  ,  0.80420522, ...,  0.76813173,\n",
        "        0.71609082,  0.72177556])"
       ]
      }
     ],
     "prompt_number": 18
    },
    {
     "cell_type": "code",
     "collapsed": false,
     "input": [
      "plt.hist(p_with_75_heads, bins=50, alpha=0.5, histtype='stepfilled', linewidth=0, normed=True)\n",
      "(normalized*100000).plot(color='black', linewidth=2)"
     ],
     "language": "python",
     "metadata": {},
     "outputs": [
      {
       "metadata": {},
       "output_type": "pyout",
       "prompt_number": 27,
       "text": [
        "<matplotlib.axes.AxesSubplot at 0x1090d0d90>"
       ]
      },
      {
       "metadata": {},
       "output_type": "display_data",
       "png": "[encoded data removed]",
       "text": [
        "<matplotlib.figure.Figure at 0x10922f450>"
       ]
      }
     ],
     "prompt_number": 27
    },
    {
     "cell_type": "markdown",
     "metadata": {},
     "source": [
      "CHAPTER 2: INDIVIDUAL RATES WITH NONTRIVIAL PRIORS\n",
      "\n",
      "Suppose that there are 1000 coins lying on a table, each of which has a bias that came from a N(0.5,0.2) distribution. We pick up a coin at random, and flip it 100 times; it lands heads-up on 75 of the flips. What\u2019s our posterior distribution for the bias p of that coin?"
     ]
    },
    {
     "cell_type": "code",
     "collapsed": false,
     "input": [
      "unnormalized_w_prior = np.array([(t**75 * (1-t)**25) * exp(-(t-0.5)**2/0.08)/(0.2*sqrt(2*np.pi)) for t in np.linspace(0,1,100000)])"
     ],
     "language": "python",
     "metadata": {},
     "outputs": [],
     "prompt_number": 31
    },
    {
     "cell_type": "code",
     "collapsed": false,
     "input": [
      "normalized_w_prior = pd.Series(unnormalized_w_prior/unnormalized_w_prior.sum(), index=np.linspace(0,1,100000))"
     ],
     "language": "python",
     "metadata": {},
     "outputs": [],
     "prompt_number": 32
    },
    {
     "cell_type": "code",
     "collapsed": false,
     "input": [
      "normalized_w_prior.plot()\n",
      "plt.vlines(0.75, 0, 0.0001, linestyles='dashed')"
     ],
     "language": "python",
     "metadata": {},
     "outputs": [
      {
       "metadata": {},
       "output_type": "pyout",
       "prompt_number": 33,
       "text": [
        "<matplotlib.collections.LineCollection at 0x10a874110>"
       ]
      },
      {
       "metadata": {},
       "output_type": "display_data",
       "png": "[encoded data removed]",
       "text": [
        "<matplotlib.figure.Figure at 0x10a874fd0>"
       ]
      }
     ],
     "prompt_number": 33
    },
    {
     "cell_type": "code",
     "collapsed": false,
     "input": [
      "normalized_w_prior.plot()\n",
      "normalized.plot()\n",
      "plt.vlines(0.75, 0, 0.0001, linestyles='dashed')"
     ],
     "language": "python",
     "metadata": {},
     "outputs": [
      {
       "metadata": {},
       "output_type": "pyout",
       "prompt_number": 37,
       "text": [
        "<matplotlib.collections.LineCollection at 0x10a7e6110>"
       ]
      },
      {
       "metadata": {},
       "output_type": "display_data",
       "png": "[encoded data removed]",
       "text": [
        "<matplotlib.figure.Figure at 0x108e68290>"
       ]
      }
     ],
     "prompt_number": 37
    },
    {
     "cell_type": "markdown",
     "metadata": {},
     "source": [
      "Or create the posteriors by sampling"
     ]
    },
    {
     "cell_type": "code",
     "collapsed": false,
     "input": [
      "true_biases = np.random.normal(0.5, 0.2, 10000000)"
     ],
     "language": "python",
     "metadata": {},
     "outputs": [],
     "prompt_number": 53
    },
    {
     "cell_type": "code",
     "collapsed": false,
     "input": [
      "sum((true_biases > 0) * (true_biases < 1))"
     ],
     "language": "python",
     "metadata": {},
     "outputs": [
      {
       "metadata": {},
       "output_type": "pyout",
       "prompt_number": 50,
       "text": [
        "9875954"
       ]
      }
     ],
     "prompt_number": 50
    },
    {
     "cell_type": "code",
     "collapsed": false,
     "input": [
      "True * True"
     ],
     "language": "python",
     "metadata": {},
     "outputs": [
      {
       "metadata": {},
       "output_type": "pyout",
       "prompt_number": 51,
       "text": [
        "1"
       ]
      }
     ],
     "prompt_number": 51
    },
    {
     "cell_type": "code",
     "collapsed": false,
     "input": [
      "true_biases = true_biases[(true_biases > 0)]\n",
      "true_biases = true_biases[(true_biases <= 1)]"
     ],
     "language": "python",
     "metadata": {},
     "outputs": [],
     "prompt_number": 54
    },
    {
     "cell_type": "code",
     "collapsed": false,
     "input": [
      "observed_heads_w_prior = np.random.binomial(100, true_biases)"
     ],
     "language": "python",
     "metadata": {},
     "outputs": [],
     "prompt_number": 55
    },
    {
     "cell_type": "code",
     "collapsed": false,
     "input": [
      "np.where(observed_heads_w_prior == 75)"
     ],
     "language": "python",
     "metadata": {},
     "outputs": [
      {
       "metadata": {},
       "output_type": "pyout",
       "prompt_number": 56,
       "text": [
        "(array([     48,      61,     152, ..., 9875127, 9875624, 9875777]),)"
       ]
      }
     ],
     "prompt_number": 56
    },
    {
     "cell_type": "code",
     "collapsed": false,
     "input": [
      "p_with_75_heads_w_prior = true_biases[np.where(observed_heads_w_prior == 75)]"
     ],
     "language": "python",
     "metadata": {},
     "outputs": [],
     "prompt_number": 57
    },
    {
     "cell_type": "code",
     "collapsed": false,
     "input": [
      "plt.hist(p_with_75_heads_w_prior, bins=50, alpha=0.5, histtype='stepfilled', linewidth=0, normed=True)\n",
      "(normalized_w_prior*100000).plot()\n",
      "(normalized*100000).plot()"
     ],
     "language": "python",
     "metadata": {},
     "outputs": [
      {
       "metadata": {},
       "output_type": "pyout",
       "prompt_number": 61,
       "text": [
        "<matplotlib.axes.AxesSubplot at 0x11ec36710>"
       ]
      },
      {
       "metadata": {},
       "output_type": "display_data",
       "png": "[encoded data removed]",
       "text": [
        "<matplotlib.figure.Figure at 0x11f401390>"
       ]
      }
     ],
     "prompt_number": 61
    },
    {
     "cell_type": "code",
     "collapsed": false,
     "input": [],
     "language": "python",
     "metadata": {},
     "outputs": [],
     "prompt_number": 61
    },
    {
     "cell_type": "markdown",
     "metadata": {},
     "source": [
      "From A/B testing for fun and profit:\n",
      "\n",
      "We have a coin with some unknown bias p to land heads-up. We flip it 100 times, and it comes up heads on 75 of them. What is p?\n",
      "Now we flip another coin 100 times, and it comes up 85 out of 100 times. Is this coin better (more heads-up-biased) than the other? How much better do we think that this coin is? I.e. if this coin has bias p\u2019, what is p\u2019 - p?"
     ]
    },
    {
     "cell_type": "code",
     "collapsed": false,
     "input": [
      "p_samples = np.random.beta(76, 26, size=10000000)\n",
      "p_prime_samples = np.random.beta(86, 16, size=10000000)"
     ],
     "language": "python",
     "metadata": {},
     "outputs": [],
     "prompt_number": 62
    },
    {
     "cell_type": "code",
     "collapsed": false,
     "input": [
      "diff_samples = p_prime_samples - p_samples"
     ],
     "language": "python",
     "metadata": {},
     "outputs": [],
     "prompt_number": 63
    },
    {
     "cell_type": "code",
     "collapsed": false,
     "input": [
      "plt.hist(diff_samples, bins=100, histtype='stepfilled', linewidth=0, alpha=0.5, normed=True)\n",
      "diff_mean = diff_samples.mean()\n",
      "plt.vlines(diff_mean, 0, 8, linestyles='--')"
     ],
     "language": "python",
     "metadata": {},
     "outputs": [
      {
       "metadata": {},
       "output_type": "pyout",
       "prompt_number": 65,
       "text": [
        "<matplotlib.collections.LineCollection at 0x10a7ea890>"
       ]
      },
      {
       "metadata": {},
       "output_type": "display_data",
       "png": "[encoded data removed]",
       "text": [
        "<matplotlib.figure.Figure at 0x1297070d0>"
       ]
      }
     ],
     "prompt_number": 65
    },
    {
     "cell_type": "code",
     "collapsed": false,
     "input": [],
     "language": "python",
     "metadata": {},
     "outputs": [],
     "prompt_number": 65
    },
    {
     "cell_type": "markdown",
     "metadata": {},
     "source": [
      "http://newdatascientist.com/blog/2014/03/23/ab-testing-done-right-part-i/\n",
      "\n",
      "THE PROBLEM\n",
      "\n",
      "Let\u2019s say that you run an A/B/\u2026/J/K test: You have 10 variants (B, C, \u2026, K) and your control (A). \n",
      "\n",
      "\n",
      "THE SOLUTION\n",
      "\n",
      "For testing whether Variant B (0.5230) is better than Variant A, we shouldn\u2019t have compared the posterior distributions for A and B directly; we should have used distribution of the maximum from 10 IID draws from A\u2019s posterior distribution. Even if there really was no improvement over A in the true conversion rate any of the variants B, C, \u2026, K , we expect there to be some variant that empirically looks better than A, due simply to chance. "
     ]
    },
    {
     "cell_type": "code",
     "collapsed": false,
     "input": [
      "maxes = np.random.beta(2500+1, 50000-2500+1, size=(100000,10)).max(axis=1)\n",
      "maxes"
     ],
     "language": "python",
     "metadata": {},
     "outputs": [
      {
       "metadata": {},
       "output_type": "pyout",
       "prompt_number": 78,
       "text": [
        "array([ 0.05027596,  0.05087561,  0.0509426 , ...,  0.05221237,\n",
        "        0.05076271,  0.05135513])"
       ]
      }
     ],
     "prompt_number": 78
    },
    {
     "cell_type": "code",
     "collapsed": false,
     "input": [
      "maxes.mean()"
     ],
     "language": "python",
     "metadata": {},
     "outputs": [
      {
       "metadata": {},
       "output_type": "pyout",
       "prompt_number": 81,
       "text": [
        "0.051526706797962021"
       ]
      }
     ],
     "prompt_number": 81
    },
    {
     "cell_type": "code",
     "collapsed": false,
     "input": [
      "(maxes >= 0.05230).sum()/(1.0*len(maxes))"
     ],
     "language": "python",
     "metadata": {},
     "outputs": [
      {
       "metadata": {},
       "output_type": "pyout",
       "prompt_number": 82,
       "text": [
        "0.097540000000000002"
       ]
      }
     ],
     "prompt_number": 82
    },
    {
     "cell_type": "code",
     "collapsed": false,
     "input": [
      "plt.hist(maxes, bins=100, alpha=0.5, linewidth=0)"
     ],
     "language": "python",
     "metadata": {},
     "outputs": [
      {
       "metadata": {},
       "output_type": "pyout",
       "prompt_number": 83,
       "text": [
        "(array([  5.00000000e+00,   0.00000000e+00,   2.00000000e+00,\n",
        "          4.00000000e+00,   8.00000000e+00,   1.00000000e+01,\n",
        "          1.90000000e+01,   3.30000000e+01,   3.50000000e+01,\n",
        "          7.40000000e+01,   9.80000000e+01,   1.10000000e+02,\n",
        "          1.88000000e+02,   2.17000000e+02,   3.24000000e+02,\n",
        "          4.21000000e+02,   5.00000000e+02,   6.49000000e+02,\n",
        "          8.60000000e+02,   9.74000000e+02,   1.23600000e+03,\n",
        "          1.45500000e+03,   1.79200000e+03,   1.92700000e+03,\n",
        "          2.26000000e+03,   2.45800000e+03,   2.68000000e+03,\n",
        "          2.99700000e+03,   3.22700000e+03,   3.50900000e+03,\n",
        "          3.50300000e+03,   3.68200000e+03,   3.76100000e+03,\n",
        "          3.82100000e+03,   3.93500000e+03,   3.89700000e+03,\n",
        "          3.60100000e+03,   3.74900000e+03,   3.58500000e+03,\n",
        "          3.29000000e+03,   3.27200000e+03,   3.05200000e+03,\n",
        "          2.90800000e+03,   2.82800000e+03,   2.41900000e+03,\n",
        "          2.28400000e+03,   2.15900000e+03,   1.87600000e+03,\n",
        "          1.75100000e+03,   1.58700000e+03,   1.36000000e+03,\n",
        "          1.24400000e+03,   1.10300000e+03,   9.37000000e+02,\n",
        "          9.34000000e+02,   7.58000000e+02,   6.94000000e+02,\n",
        "          5.74000000e+02,   4.82000000e+02,   4.25000000e+02,\n",
        "          3.68000000e+02,   3.36000000e+02,   2.95000000e+02,\n",
        "          2.37000000e+02,   1.95000000e+02,   1.74000000e+02,\n",
        "          1.62000000e+02,   1.22000000e+02,   9.10000000e+01,\n",
        "          7.90000000e+01,   6.90000000e+01,   5.90000000e+01,\n",
        "          4.90000000e+01,   4.30000000e+01,   3.40000000e+01,\n",
        "          2.90000000e+01,   2.30000000e+01,   1.60000000e+01,\n",
        "          2.20000000e+01,   1.30000000e+01,   7.00000000e+00,\n",
        "          1.10000000e+01,   4.00000000e+00,   1.00000000e+00,\n",
        "          1.00000000e+00,   3.00000000e+00,   3.00000000e+00,\n",
        "          2.00000000e+00,   1.00000000e+00,   2.00000000e+00,\n",
        "          0.00000000e+00,   1.00000000e+00,   0.00000000e+00,\n",
        "          0.00000000e+00,   0.00000000e+00,   1.00000000e+00,\n",
        "          0.00000000e+00,   1.00000000e+00,   1.00000000e+00,\n",
        "          2.00000000e+00]),\n",
        " array([ 0.04954126,  0.04959548,  0.0496497 ,  0.04970392,  0.04975814,\n",
        "         0.04981237,  0.04986659,  0.04992081,  0.04997503,  0.05002925,\n",
        "         0.05008347,  0.05013769,  0.05019191,  0.05024613,  0.05030035,\n",
        "         0.05035458,  0.0504088 ,  0.05046302,  0.05051724,  0.05057146,\n",
        "         0.05062568,  0.0506799 ,  0.05073412,  0.05078834,  0.05084256,\n",
        "         0.05089679,  0.05095101,  0.05100523,  0.05105945,  0.05111367,\n",
        "         0.05116789,  0.05122211,  0.05127633,  0.05133055,  0.05138477,\n",
        "         0.051439  ,  0.05149322,  0.05154744,  0.05160166,  0.05165588,\n",
        "         0.0517101 ,  0.05176432,  0.05181854,  0.05187276,  0.05192698,\n",
        "         0.05198121,  0.05203543,  0.05208965,  0.05214387,  0.05219809,\n",
        "         0.05225231,  0.05230653,  0.05236075,  0.05241497,  0.05246919,\n",
        "         0.05252342,  0.05257764,  0.05263186,  0.05268608,  0.0527403 ,\n",
        "         0.05279452,  0.05284874,  0.05290296,  0.05295718,  0.0530114 ,\n",
        "         0.05306563,  0.05311985,  0.05317407,  0.05322829,  0.05328251,\n",
        "         0.05333673,  0.05339095,  0.05344517,  0.05349939,  0.05355361,\n",
        "         0.05360784,  0.05366206,  0.05371628,  0.0537705 ,  0.05382472,\n",
        "         0.05387894,  0.05393316,  0.05398738,  0.0540416 ,  0.05409582,\n",
        "         0.05415005,  0.05420427,  0.05425849,  0.05431271,  0.05436693,\n",
        "         0.05442115,  0.05447537,  0.05452959,  0.05458381,  0.05463803,\n",
        "         0.05469226,  0.05474648,  0.0548007 ,  0.05485492,  0.05490914,\n",
        "         0.05496336]),\n",
        " <a list of 100 Patch objects>)"
       ]
      },
      {
       "metadata": {},
       "output_type": "display_data",
       "png": "[encoded data removed]",
       "text": [
        "<matplotlib.figure.Figure at 0x11f64f3d0>"
       ]
      }
     ],
     "prompt_number": 83
    },
    {
     "cell_type": "code",
     "collapsed": false,
     "input": [
      "m = np.random.beta(2500+1, 50000-2500+1, size=(100000,10)).max(axis=1)\n",
      "b = np.random.beta(2615+1, 50000-2615+1, size=100000)"
     ],
     "language": "python",
     "metadata": {},
     "outputs": [],
     "prompt_number": 87
    },
    {
     "cell_type": "code",
     "collapsed": false,
     "input": [
      "(b >= m).sum()"
     ],
     "language": "python",
     "metadata": {},
     "outputs": [
      {
       "metadata": {},
       "output_type": "pyout",
       "prompt_number": 90,
       "text": [
        "75248"
       ]
      }
     ],
     "prompt_number": 90
    },
    {
     "cell_type": "code",
     "collapsed": false,
     "input": [
      "(b > m).sum() / (1.0*len(b))"
     ],
     "language": "python",
     "metadata": {},
     "outputs": [
      {
       "metadata": {},
       "output_type": "pyout",
       "prompt_number": 91,
       "text": [
        "0.75248000000000004"
       ]
      }
     ],
     "prompt_number": 91
    },
    {
     "cell_type": "markdown",
     "metadata": {},
     "source": [
      "75% chance that B is better than A, based on 10 IID draws from A's posterior."
     ]
    },
    {
     "cell_type": "code",
     "collapsed": false,
     "input": [],
     "language": "python",
     "metadata": {},
     "outputs": []
    }
   ],
   "metadata": {}
  }
 ]
}